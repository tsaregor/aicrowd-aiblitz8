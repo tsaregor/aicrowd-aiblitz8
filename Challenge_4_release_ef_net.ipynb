{
  "nbformat": 4,
  "nbformat_minor": 0,
  "metadata": {
    "accelerator": "GPU",
    "colab": {
      "name": "Challenge_4_release_ef_net.ipynb",
      "provenance": [],
      "collapsed_sections": [],
      "toc_visible": true
    },
    "kernelspec": {
      "display_name": "Python 3",
      "name": "python3"
    },
    "language_info": {
      "name": "python"
    },
    "widgets": {
      "application/vnd.jupyter.widget-state+json": {
        "6f3f0905545440369f7afb5ea74aaea1": {
          "model_module": "@jupyter-widgets/controls",
          "model_name": "HBoxModel",
          "state": {
            "_view_name": "HBoxView",
            "_dom_classes": [],
            "_model_name": "HBoxModel",
            "_view_module": "@jupyter-widgets/controls",
            "_model_module_version": "1.5.0",
            "_view_count": null,
            "_view_module_version": "1.5.0",
            "box_style": "",
            "layout": "IPY_MODEL_f99e9172b12b401584f644bd31d37dcc",
            "_model_module": "@jupyter-widgets/controls",
            "children": [
              "IPY_MODEL_158464a932074feab3bbe0ebae7693d8",
              "IPY_MODEL_ab5babdae31d41bfa843f726955664eb"
            ]
          }
        },
        "f99e9172b12b401584f644bd31d37dcc": {
          "model_module": "@jupyter-widgets/base",
          "model_name": "LayoutModel",
          "state": {
            "_view_name": "LayoutView",
            "grid_template_rows": null,
            "right": null,
            "justify_content": null,
            "_view_module": "@jupyter-widgets/base",
            "overflow": null,
            "_model_module_version": "1.2.0",
            "_view_count": null,
            "flex_flow": null,
            "width": null,
            "min_width": null,
            "border": null,
            "align_items": null,
            "bottom": null,
            "_model_module": "@jupyter-widgets/base",
            "top": null,
            "grid_column": null,
            "overflow_y": null,
            "overflow_x": null,
            "grid_auto_flow": null,
            "grid_area": null,
            "grid_template_columns": null,
            "flex": null,
            "_model_name": "LayoutModel",
            "justify_items": null,
            "grid_row": null,
            "max_height": null,
            "align_content": null,
            "visibility": null,
            "align_self": null,
            "height": null,
            "min_height": null,
            "padding": null,
            "grid_auto_rows": null,
            "grid_gap": null,
            "max_width": null,
            "order": null,
            "_view_module_version": "1.2.0",
            "grid_template_areas": null,
            "object_position": null,
            "object_fit": null,
            "grid_auto_columns": null,
            "margin": null,
            "display": null,
            "left": null
          }
        },
        "158464a932074feab3bbe0ebae7693d8": {
          "model_module": "@jupyter-widgets/controls",
          "model_name": "FloatProgressModel",
          "state": {
            "_view_name": "ProgressView",
            "style": "IPY_MODEL_2d833fa895484d778c24a00ac3ce69b9",
            "_dom_classes": [],
            "description": "100%",
            "_model_name": "FloatProgressModel",
            "bar_style": "success",
            "max": 49388949,
            "_view_module": "@jupyter-widgets/controls",
            "_model_module_version": "1.5.0",
            "value": 49388949,
            "_view_count": null,
            "_view_module_version": "1.5.0",
            "orientation": "horizontal",
            "min": 0,
            "description_tooltip": null,
            "_model_module": "@jupyter-widgets/controls",
            "layout": "IPY_MODEL_4d1ee7856154475ab0d2710f955a69ee"
          }
        },
        "ab5babdae31d41bfa843f726955664eb": {
          "model_module": "@jupyter-widgets/controls",
          "model_name": "HTMLModel",
          "state": {
            "_view_name": "HTMLView",
            "style": "IPY_MODEL_725493ae8d744049af34a0408d88545e",
            "_dom_classes": [],
            "description": "",
            "_model_name": "HTMLModel",
            "placeholder": "​",
            "_view_module": "@jupyter-widgets/controls",
            "_model_module_version": "1.5.0",
            "value": " 47.1M/47.1M [00:07&lt;00:00, 6.54MB/s]",
            "_view_count": null,
            "_view_module_version": "1.5.0",
            "description_tooltip": null,
            "_model_module": "@jupyter-widgets/controls",
            "layout": "IPY_MODEL_6c152e83c7654e9dae2b7051da1b9fb9"
          }
        },
        "2d833fa895484d778c24a00ac3ce69b9": {
          "model_module": "@jupyter-widgets/controls",
          "model_name": "ProgressStyleModel",
          "state": {
            "_view_name": "StyleView",
            "_model_name": "ProgressStyleModel",
            "description_width": "initial",
            "_view_module": "@jupyter-widgets/base",
            "_model_module_version": "1.5.0",
            "_view_count": null,
            "_view_module_version": "1.2.0",
            "bar_color": null,
            "_model_module": "@jupyter-widgets/controls"
          }
        },
        "4d1ee7856154475ab0d2710f955a69ee": {
          "model_module": "@jupyter-widgets/base",
          "model_name": "LayoutModel",
          "state": {
            "_view_name": "LayoutView",
            "grid_template_rows": null,
            "right": null,
            "justify_content": null,
            "_view_module": "@jupyter-widgets/base",
            "overflow": null,
            "_model_module_version": "1.2.0",
            "_view_count": null,
            "flex_flow": null,
            "width": null,
            "min_width": null,
            "border": null,
            "align_items": null,
            "bottom": null,
            "_model_module": "@jupyter-widgets/base",
            "top": null,
            "grid_column": null,
            "overflow_y": null,
            "overflow_x": null,
            "grid_auto_flow": null,
            "grid_area": null,
            "grid_template_columns": null,
            "flex": null,
            "_model_name": "LayoutModel",
            "justify_items": null,
            "grid_row": null,
            "max_height": null,
            "align_content": null,
            "visibility": null,
            "align_self": null,
            "height": null,
            "min_height": null,
            "padding": null,
            "grid_auto_rows": null,
            "grid_gap": null,
            "max_width": null,
            "order": null,
            "_view_module_version": "1.2.0",
            "grid_template_areas": null,
            "object_position": null,
            "object_fit": null,
            "grid_auto_columns": null,
            "margin": null,
            "display": null,
            "left": null
          }
        },
        "725493ae8d744049af34a0408d88545e": {
          "model_module": "@jupyter-widgets/controls",
          "model_name": "DescriptionStyleModel",
          "state": {
            "_view_name": "StyleView",
            "_model_name": "DescriptionStyleModel",
            "description_width": "",
            "_view_module": "@jupyter-widgets/base",
            "_model_module_version": "1.5.0",
            "_view_count": null,
            "_view_module_version": "1.2.0",
            "_model_module": "@jupyter-widgets/controls"
          }
        },
        "6c152e83c7654e9dae2b7051da1b9fb9": {
          "model_module": "@jupyter-widgets/base",
          "model_name": "LayoutModel",
          "state": {
            "_view_name": "LayoutView",
            "grid_template_rows": null,
            "right": null,
            "justify_content": null,
            "_view_module": "@jupyter-widgets/base",
            "overflow": null,
            "_model_module_version": "1.2.0",
            "_view_count": null,
            "flex_flow": null,
            "width": null,
            "min_width": null,
            "border": null,
            "align_items": null,
            "bottom": null,
            "_model_module": "@jupyter-widgets/base",
            "top": null,
            "grid_column": null,
            "overflow_y": null,
            "overflow_x": null,
            "grid_auto_flow": null,
            "grid_area": null,
            "grid_template_columns": null,
            "flex": null,
            "_model_name": "LayoutModel",
            "justify_items": null,
            "grid_row": null,
            "max_height": null,
            "align_content": null,
            "visibility": null,
            "align_self": null,
            "height": null,
            "min_height": null,
            "padding": null,
            "grid_auto_rows": null,
            "grid_gap": null,
            "max_width": null,
            "order": null,
            "_view_module_version": "1.2.0",
            "grid_template_areas": null,
            "object_position": null,
            "object_fit": null,
            "grid_auto_columns": null,
            "margin": null,
            "display": null,
            "left": null
          }
        }
      }
    }
  },
  "cells": [
    {
      "cell_type": "code",
      "metadata": {
        "id": "LUeeIn0ImAC2"
      },
      "source": [
        "import torch\n",
        "workDir='/usr/data/'\n",
        "device = torch.device(\"cuda:0\" if torch.cuda.is_available() else \"cpu\")"
      ],
      "execution_count": null,
      "outputs": []
    },
    {
      "cell_type": "code",
      "metadata": {
        "colab": {
          "base_uri": "https://localhost:8080/"
        },
        "id": "kxI6YSygmG-z",
        "outputId": "a2d15a64-050f-4173-da6d-d863eb2415d2"
      },
      "source": [
        "# this mounts your Google Drive to the Colab VM.\n",
        "from google.colab import drive\n",
        "drive.mount('/content/drive', force_remount=True)\n",
        "\n",
        "\n",
        "%cd '/usr'\n",
        "!mkdir 'data'\n",
        "%cd '/usr/data'\n"
      ],
      "execution_count": null,
      "outputs": [
        {
          "output_type": "stream",
          "text": [
            "Mounted at /content/drive\n",
            "/usr\n",
            "/usr/data\n"
          ],
          "name": "stdout"
        }
      ]
    },
    {
      "cell_type": "code",
      "metadata": {
        "colab": {
          "base_uri": "https://localhost:8080/",
          "height": 1000
        },
        "id": "jzdLOjuWmOMv",
        "outputId": "2d6f2f20-46fa-4278-f78c-85596c0c4174"
      },
      "source": [
        "!pip install --upgrade fastai\n",
        "!pip install -U aicrowd-cli"
      ],
      "execution_count": null,
      "outputs": [
        {
          "output_type": "stream",
          "text": [
            "Collecting fastai\n",
            "\u001b[?25l  Downloading https://files.pythonhosted.org/packages/e8/79/e8a87e4c20238e114671314426227db8647d2b42744eab79e0917c59865e/fastai-2.3.1-py3-none-any.whl (194kB)\n",
            "\r\u001b[K     |█▊                              | 10kB 22.3MB/s eta 0:00:01\r\u001b[K     |███▍                            | 20kB 29.6MB/s eta 0:00:01\r\u001b[K     |█████                           | 30kB 21.1MB/s eta 0:00:01\r\u001b[K     |██████▊                         | 40kB 16.6MB/s eta 0:00:01\r\u001b[K     |████████▍                       | 51kB 14.8MB/s eta 0:00:01\r\u001b[K     |██████████                      | 61kB 16.8MB/s eta 0:00:01\r\u001b[K     |███████████▉                    | 71kB 13.2MB/s eta 0:00:01\r\u001b[K     |█████████████▌                  | 81kB 12.7MB/s eta 0:00:01\r\u001b[K     |███████████████▏                | 92kB 13.5MB/s eta 0:00:01\r\u001b[K     |████████████████▉               | 102kB 13.8MB/s eta 0:00:01\r\u001b[K     |██████████████████▌             | 112kB 13.8MB/s eta 0:00:01\r\u001b[K     |████████████████████▏           | 122kB 13.8MB/s eta 0:00:01\r\u001b[K     |██████████████████████          | 133kB 13.8MB/s eta 0:00:01\r\u001b[K     |███████████████████████▋        | 143kB 13.8MB/s eta 0:00:01\r\u001b[K     |█████████████████████████▎      | 153kB 13.8MB/s eta 0:00:01\r\u001b[K     |███████████████████████████     | 163kB 13.8MB/s eta 0:00:01\r\u001b[K     |████████████████████████████▋   | 174kB 13.8MB/s eta 0:00:01\r\u001b[K     |██████████████████████████████▎ | 184kB 13.8MB/s eta 0:00:01\r\u001b[K     |████████████████████████████████| 194kB 13.8MB/s eta 0:00:01\r\u001b[K     |████████████████████████████████| 204kB 13.8MB/s \n",
            "\u001b[?25hRequirement already satisfied, skipping upgrade: scipy in /usr/local/lib/python3.7/dist-packages (from fastai) (1.4.1)\n",
            "Requirement already satisfied, skipping upgrade: pillow>6.0.0 in /usr/local/lib/python3.7/dist-packages (from fastai) (7.1.2)\n",
            "Requirement already satisfied, skipping upgrade: packaging in /usr/local/lib/python3.7/dist-packages (from fastai) (20.9)\n",
            "Requirement already satisfied, skipping upgrade: torch<1.9,>=1.7.0 in /usr/local/lib/python3.7/dist-packages (from fastai) (1.8.1+cu101)\n",
            "Requirement already satisfied, skipping upgrade: pyyaml in /usr/local/lib/python3.7/dist-packages (from fastai) (3.13)\n",
            "Requirement already satisfied, skipping upgrade: pip in /usr/local/lib/python3.7/dist-packages (from fastai) (19.3.1)\n",
            "Requirement already satisfied, skipping upgrade: spacy<4 in /usr/local/lib/python3.7/dist-packages (from fastai) (2.2.4)\n",
            "Requirement already satisfied, skipping upgrade: fastprogress>=0.2.4 in /usr/local/lib/python3.7/dist-packages (from fastai) (1.0.0)\n",
            "Requirement already satisfied, skipping upgrade: scikit-learn in /usr/local/lib/python3.7/dist-packages (from fastai) (0.22.2.post1)\n",
            "Requirement already satisfied, skipping upgrade: requests in /usr/local/lib/python3.7/dist-packages (from fastai) (2.23.0)\n",
            "Requirement already satisfied, skipping upgrade: matplotlib in /usr/local/lib/python3.7/dist-packages (from fastai) (3.2.2)\n",
            "Collecting fastcore<1.4,>=1.3.8\n",
            "\u001b[?25l  Downloading https://files.pythonhosted.org/packages/d8/b0/f1fbf554e0bf3c76e1bdc3b82eedfe41fcf656479586be38c64421082b1b/fastcore-1.3.20-py3-none-any.whl (53kB)\n",
            "\u001b[K     |████████████████████████████████| 61kB 7.9MB/s \n",
            "\u001b[?25hRequirement already satisfied, skipping upgrade: torchvision>=0.8.2 in /usr/local/lib/python3.7/dist-packages (from fastai) (0.9.1+cu101)\n",
            "Requirement already satisfied, skipping upgrade: pandas in /usr/local/lib/python3.7/dist-packages (from fastai) (1.1.5)\n",
            "Requirement already satisfied, skipping upgrade: numpy>=1.13.3 in /usr/local/lib/python3.7/dist-packages (from scipy->fastai) (1.19.5)\n",
            "Requirement already satisfied, skipping upgrade: pyparsing>=2.0.2 in /usr/local/lib/python3.7/dist-packages (from packaging->fastai) (2.4.7)\n",
            "Requirement already satisfied, skipping upgrade: typing-extensions in /usr/local/lib/python3.7/dist-packages (from torch<1.9,>=1.7.0->fastai) (3.7.4.3)\n",
            "Requirement already satisfied, skipping upgrade: setuptools in /usr/local/lib/python3.7/dist-packages (from spacy<4->fastai) (56.1.0)\n",
            "Requirement already satisfied, skipping upgrade: wasabi<1.1.0,>=0.4.0 in /usr/local/lib/python3.7/dist-packages (from spacy<4->fastai) (0.8.2)\n",
            "Requirement already satisfied, skipping upgrade: catalogue<1.1.0,>=0.0.7 in /usr/local/lib/python3.7/dist-packages (from spacy<4->fastai) (1.0.0)\n",
            "Requirement already satisfied, skipping upgrade: plac<1.2.0,>=0.9.6 in /usr/local/lib/python3.7/dist-packages (from spacy<4->fastai) (1.1.3)\n",
            "Requirement already satisfied, skipping upgrade: blis<0.5.0,>=0.4.0 in /usr/local/lib/python3.7/dist-packages (from spacy<4->fastai) (0.4.1)\n",
            "Requirement already satisfied, skipping upgrade: murmurhash<1.1.0,>=0.28.0 in /usr/local/lib/python3.7/dist-packages (from spacy<4->fastai) (1.0.5)\n",
            "Requirement already satisfied, skipping upgrade: thinc==7.4.0 in /usr/local/lib/python3.7/dist-packages (from spacy<4->fastai) (7.4.0)\n",
            "Requirement already satisfied, skipping upgrade: tqdm<5.0.0,>=4.38.0 in /usr/local/lib/python3.7/dist-packages (from spacy<4->fastai) (4.41.1)\n",
            "Requirement already satisfied, skipping upgrade: preshed<3.1.0,>=3.0.2 in /usr/local/lib/python3.7/dist-packages (from spacy<4->fastai) (3.0.5)\n",
            "Requirement already satisfied, skipping upgrade: cymem<2.1.0,>=2.0.2 in /usr/local/lib/python3.7/dist-packages (from spacy<4->fastai) (2.0.5)\n",
            "Requirement already satisfied, skipping upgrade: srsly<1.1.0,>=1.0.2 in /usr/local/lib/python3.7/dist-packages (from spacy<4->fastai) (1.0.5)\n",
            "Requirement already satisfied, skipping upgrade: joblib>=0.11 in /usr/local/lib/python3.7/dist-packages (from scikit-learn->fastai) (1.0.1)\n",
            "Requirement already satisfied, skipping upgrade: chardet<4,>=3.0.2 in /usr/local/lib/python3.7/dist-packages (from requests->fastai) (3.0.4)\n",
            "Requirement already satisfied, skipping upgrade: idna<3,>=2.5 in /usr/local/lib/python3.7/dist-packages (from requests->fastai) (2.10)\n",
            "Requirement already satisfied, skipping upgrade: certifi>=2017.4.17 in /usr/local/lib/python3.7/dist-packages (from requests->fastai) (2020.12.5)\n",
            "Requirement already satisfied, skipping upgrade: urllib3!=1.25.0,!=1.25.1,<1.26,>=1.21.1 in /usr/local/lib/python3.7/dist-packages (from requests->fastai) (1.24.3)\n",
            "Requirement already satisfied, skipping upgrade: cycler>=0.10 in /usr/local/lib/python3.7/dist-packages (from matplotlib->fastai) (0.10.0)\n",
            "Requirement already satisfied, skipping upgrade: kiwisolver>=1.0.1 in /usr/local/lib/python3.7/dist-packages (from matplotlib->fastai) (1.3.1)\n",
            "Requirement already satisfied, skipping upgrade: python-dateutil>=2.1 in /usr/local/lib/python3.7/dist-packages (from matplotlib->fastai) (2.8.1)\n",
            "Requirement already satisfied, skipping upgrade: pytz>=2017.2 in /usr/local/lib/python3.7/dist-packages (from pandas->fastai) (2018.9)\n",
            "Requirement already satisfied, skipping upgrade: importlib-metadata>=0.20; python_version < \"3.8\" in /usr/local/lib/python3.7/dist-packages (from catalogue<1.1.0,>=0.0.7->spacy<4->fastai) (4.0.1)\n",
            "Requirement already satisfied, skipping upgrade: six in /usr/local/lib/python3.7/dist-packages (from cycler>=0.10->matplotlib->fastai) (1.15.0)\n",
            "Requirement already satisfied, skipping upgrade: zipp>=0.5 in /usr/local/lib/python3.7/dist-packages (from importlib-metadata>=0.20; python_version < \"3.8\"->catalogue<1.1.0,>=0.0.7->spacy<4->fastai) (3.4.1)\n",
            "Installing collected packages: fastcore, fastai\n",
            "  Found existing installation: fastai 1.0.61\n",
            "    Uninstalling fastai-1.0.61:\n",
            "      Successfully uninstalled fastai-1.0.61\n",
            "Successfully installed fastai-2.3.1 fastcore-1.3.20\n",
            "Collecting aicrowd-cli\n",
            "\u001b[?25l  Downloading https://files.pythonhosted.org/packages/a5/8a/fca67e8c1cb1501a9653cd653232bf6fdebbb2393e3de861aad3636a1136/aicrowd_cli-0.1.6-py3-none-any.whl (51kB)\n",
            "\u001b[K     |████████████████████████████████| 61kB 6.0MB/s \n",
            "\u001b[?25hCollecting requests<3,>=2.25.1\n",
            "\u001b[?25l  Downloading https://files.pythonhosted.org/packages/29/c1/24814557f1d22c56d50280771a17307e6bf87b70727d975fd6b2ce6b014a/requests-2.25.1-py2.py3-none-any.whl (61kB)\n",
            "\u001b[K     |████████████████████████████████| 61kB 8.0MB/s \n",
            "\u001b[?25hRequirement already satisfied, skipping upgrade: toml<1,>=0.10.2 in /usr/local/lib/python3.7/dist-packages (from aicrowd-cli) (0.10.2)\n",
            "Collecting gitpython<4,>=3.1.12\n",
            "\u001b[?25l  Downloading https://files.pythonhosted.org/packages/27/da/6f6224fdfc47dab57881fe20c0d1bc3122be290198ba0bf26a953a045d92/GitPython-3.1.17-py3-none-any.whl (166kB)\n",
            "\u001b[K     |████████████████████████████████| 174kB 22.4MB/s \n",
            "\u001b[?25hCollecting requests-toolbelt<1,>=0.9.1\n",
            "\u001b[?25l  Downloading https://files.pythonhosted.org/packages/60/ef/7681134338fc097acef8d9b2f8abe0458e4d87559c689a8c306d0957ece5/requests_toolbelt-0.9.1-py2.py3-none-any.whl (54kB)\n",
            "\u001b[K     |████████████████████████████████| 61kB 10.2MB/s \n",
            "\u001b[?25hCollecting rich<11,>=10.0.0\n",
            "\u001b[?25l  Downloading https://files.pythonhosted.org/packages/6b/39/fbe8d15f0b017d63701f2a42e4ccb9a73cd4175e5c56214c1b5685e3dd79/rich-10.2.2-py3-none-any.whl (203kB)\n",
            "\u001b[K     |████████████████████████████████| 204kB 23.1MB/s \n",
            "\u001b[?25hCollecting tqdm<5,>=4.56.0\n",
            "\u001b[?25l  Downloading https://files.pythonhosted.org/packages/72/8a/34efae5cf9924328a8f34eeb2fdaae14c011462d9f0e3fcded48e1266d1c/tqdm-4.60.0-py2.py3-none-any.whl (75kB)\n",
            "\u001b[K     |████████████████████████████████| 81kB 10.9MB/s \n",
            "\u001b[?25hCollecting click<8,>=7.1.2\n",
            "\u001b[?25l  Downloading https://files.pythonhosted.org/packages/d2/3d/fa76db83bf75c4f8d338c2fd15c8d33fdd7ad23a9b5e57eb6c5de26b430e/click-7.1.2-py2.py3-none-any.whl (82kB)\n",
            "\u001b[K     |████████████████████████████████| 92kB 12.1MB/s \n",
            "\u001b[?25hRequirement already satisfied, skipping upgrade: chardet<5,>=3.0.2 in /usr/local/lib/python3.7/dist-packages (from requests<3,>=2.25.1->aicrowd-cli) (3.0.4)\n",
            "Requirement already satisfied, skipping upgrade: urllib3<1.27,>=1.21.1 in /usr/local/lib/python3.7/dist-packages (from requests<3,>=2.25.1->aicrowd-cli) (1.24.3)\n",
            "Requirement already satisfied, skipping upgrade: idna<3,>=2.5 in /usr/local/lib/python3.7/dist-packages (from requests<3,>=2.25.1->aicrowd-cli) (2.10)\n",
            "Requirement already satisfied, skipping upgrade: certifi>=2017.4.17 in /usr/local/lib/python3.7/dist-packages (from requests<3,>=2.25.1->aicrowd-cli) (2020.12.5)\n",
            "Collecting gitdb<5,>=4.0.1\n",
            "\u001b[?25l  Downloading https://files.pythonhosted.org/packages/ea/e8/f414d1a4f0bbc668ed441f74f44c116d9816833a48bf81d22b697090dba8/gitdb-4.0.7-py3-none-any.whl (63kB)\n",
            "\u001b[K     |████████████████████████████████| 71kB 11.3MB/s \n",
            "\u001b[?25hRequirement already satisfied, skipping upgrade: typing-extensions>=3.7.4.0; python_version < \"3.8\" in /usr/local/lib/python3.7/dist-packages (from gitpython<4,>=3.1.12->aicrowd-cli) (3.7.4.3)\n",
            "Collecting colorama<0.5.0,>=0.4.0\n",
            "  Downloading https://files.pythonhosted.org/packages/44/98/5b86278fbbf250d239ae0ecb724f8572af1c91f4a11edf4d36a206189440/colorama-0.4.4-py2.py3-none-any.whl\n",
            "Requirement already satisfied, skipping upgrade: pygments<3.0.0,>=2.6.0 in /usr/local/lib/python3.7/dist-packages (from rich<11,>=10.0.0->aicrowd-cli) (2.6.1)\n",
            "Collecting commonmark<0.10.0,>=0.9.0\n",
            "\u001b[?25l  Downloading https://files.pythonhosted.org/packages/b1/92/dfd892312d822f36c55366118b95d914e5f16de11044a27cf10a7d71bbbf/commonmark-0.9.1-py2.py3-none-any.whl (51kB)\n",
            "\u001b[K     |████████████████████████████████| 51kB 7.9MB/s \n",
            "\u001b[?25hCollecting smmap<5,>=3.0.1\n",
            "  Downloading https://files.pythonhosted.org/packages/68/ee/d540eb5e5996eb81c26ceffac6ee49041d473bc5125f2aa995cf51ec1cf1/smmap-4.0.0-py2.py3-none-any.whl\n",
            "\u001b[31mERROR: google-colab 1.0.0 has requirement requests~=2.23.0, but you'll have requests 2.25.1 which is incompatible.\u001b[0m\n",
            "\u001b[31mERROR: datascience 0.10.6 has requirement folium==0.2.1, but you'll have folium 0.8.3 which is incompatible.\u001b[0m\n",
            "Installing collected packages: requests, smmap, gitdb, gitpython, requests-toolbelt, colorama, commonmark, rich, tqdm, click, aicrowd-cli\n",
            "  Found existing installation: requests 2.23.0\n",
            "    Uninstalling requests-2.23.0:\n",
            "      Successfully uninstalled requests-2.23.0\n",
            "  Found existing installation: tqdm 4.41.1\n",
            "    Uninstalling tqdm-4.41.1:\n",
            "      Successfully uninstalled tqdm-4.41.1\n",
            "  Found existing installation: click 8.0.0\n",
            "    Uninstalling click-8.0.0:\n",
            "      Successfully uninstalled click-8.0.0\n",
            "Successfully installed aicrowd-cli-0.1.6 click-7.1.2 colorama-0.4.4 commonmark-0.9.1 gitdb-4.0.7 gitpython-3.1.17 requests-2.25.1 requests-toolbelt-0.9.1 rich-10.2.2 smmap-4.0.0 tqdm-4.60.0\n"
          ],
          "name": "stdout"
        },
        {
          "output_type": "display_data",
          "data": {
            "application/vnd.colab-display-data+json": {
              "pip_warning": {
                "packages": [
                  "tqdm"
                ]
              }
            }
          },
          "metadata": {
            "tags": []
          }
        }
      ]
    },
    {
      "cell_type": "code",
      "metadata": {
        "id": "0T0WngwrmQjc",
        "colab": {
          "base_uri": "https://localhost:8080/"
        },
        "outputId": "85ff8342-bd44-4f54-ddf4-c552d65300e0"
      },
      "source": [
        "API_KEY = '52ab6eb031245b7028158e2f3e993174' #Please enter your API Key from [https://www.aicrowd.com/participants/me]\n",
        "!aicrowd login --api-key $API_KEY"
      ],
      "execution_count": null,
      "outputs": [
        {
          "output_type": "stream",
          "text": [
            "\u001b[32mAPI Key valid\u001b[0m\n",
            "\u001b[32mSaved API Key successfully!\u001b[0m\n"
          ],
          "name": "stdout"
        }
      ]
    },
    {
      "cell_type": "code",
      "metadata": {
        "colab": {
          "base_uri": "https://localhost:8080/"
        },
        "id": "koGwHJVZmSSu",
        "outputId": "b59aa154-da69-42f3-955d-d714be314d28"
      },
      "source": [
        "!aicrowd dataset download --challenge f1-car-rotation -j 3"
      ],
      "execution_count": null,
      "outputs": [
        {
          "output_type": "stream",
          "text": [
            "sample_submission.csv: 100% 104k/104k [00:00<00:00, 335kB/s]\n",
            "train.csv: 100% 449k/449k [00:00<00:00, 690kB/s]\n",
            "test.zip:   0% 0.00/111M [00:00<?, ?B/s]\n",
            "val.csv:   0% 0.00/40.9k [00:00<?, ?B/s]\u001b[A\n",
            "val.csv: 100% 40.9k/40.9k [00:00<00:00, 278kB/s]\n",
            "\n",
            "train.zip:   0% 0.00/444M [00:00<?, ?B/s]\u001b[A\n",
            "\n",
            "val.zip:   0% 0.00/44.4M [00:00<?, ?B/s]\u001b[A\u001b[A\n",
            "test.zip:  30% 33.6M/111M [00:07<00:16, 4.58MB/s]\n",
            "\n",
            "val.zip:  76% 33.6M/44.4M [00:05<00:01, 6.06MB/s]\u001b[A\u001b[A\n",
            "\n",
            "val.zip: 100% 44.4M/44.4M [00:06<00:00, 6.93MB/s]\n",
            "\n",
            "train.zip:  15% 67.1M/444M [00:09<00:52, 7.19MB/s]\u001b[A\n",
            "test.zip:  91% 101M/111M [00:21<00:02, 4.60MB/s] \n",
            "test.zip: 100% 111M/111M [00:24<00:00, 4.62MB/s]\n",
            "\n",
            "train.zip:  38% 168M/444M [00:30<00:57, 4.79MB/s]\u001b[A\n",
            "train.zip:  45% 201M/444M [00:34<00:42, 5.66MB/s]\u001b[A\n",
            "train.zip:  53% 235M/444M [00:37<00:30, 6.84MB/s]\u001b[A\n",
            "train.zip:  61% 268M/444M [00:46<00:32, 5.38MB/s]\u001b[A\n",
            "train.zip:  68% 302M/444M [00:49<00:21, 6.44MB/s]\u001b[A\n",
            "train.zip:  76% 336M/444M [00:53<00:15, 7.06MB/s]\u001b[A\n",
            "train.zip:  83% 369M/444M [00:56<00:09, 7.53MB/s]\u001b[A\n",
            "train.zip:  91% 403M/444M [01:01<00:05, 7.71MB/s]\u001b[A\n",
            "train.zip:  98% 436M/444M [01:05<00:00, 7.84MB/s]\u001b[A\n",
            "train.zip: 100% 444M/444M [01:05<00:00, 6.78MB/s]\n"
          ],
          "name": "stdout"
        }
      ]
    },
    {
      "cell_type": "code",
      "metadata": {
        "id": "q7gjEBfHmUBg"
      },
      "source": [
        "!rm -rf data\n",
        "!mkdir data\n",
        "\n",
        "!unzip -q train.zip  -d data/train\n",
        "!unzip -q val.zip -d data/val\n",
        "!unzip -q test.zip  -d data/test\n",
        "\n",
        "!mv train.csv data/train.csv\n",
        "!mv val.csv data/val.csv\n",
        "!mv sample_submission.csv data/sample_submission.csv"
      ],
      "execution_count": null,
      "outputs": []
    },
    {
      "cell_type": "code",
      "metadata": {
        "id": "cyVN0s33mWTP"
      },
      "source": [
        "import torch\n",
        "from torch.utils.data import Dataset,DataLoader,RandomSampler\n",
        "from torchvision import transforms as T\n",
        "import pandas as pd\n",
        "from PIL import Image\n",
        "\n",
        "class ImageDataset(Dataset):\n",
        "  def __init__(self,ImageFold,lblDict,df,transforms):\n",
        "    self.ImageFold=ImageFold\n",
        "    self.df=df\n",
        "    self.trans=transforms\n",
        "    self.lblDict=lblDict\n",
        "\n",
        "  def __len__(self):\n",
        "    return len(self.df)\n",
        "\n",
        "  def __getitem__(self,ind):\n",
        "    im=self.load_image(self.df.iloc[ind][0])\n",
        "    im=self.trans(im)\n",
        "    return im, self.lblDict[self.df.iloc[ind][1]]\n",
        "\n",
        "\n",
        "  def load_image(self,ind):\n",
        "    return Image.open(self.ImageFold+str(self.df.iloc[ind][0])+'.jpg')"
      ],
      "execution_count": null,
      "outputs": []
    },
    {
      "cell_type": "code",
      "metadata": {
        "id": "6BlR49wZmYnJ"
      },
      "source": [
        "trainResnet=T.Compose([\n",
        "#        T.Resize(imSize),\n",
        "#        transforms.RandomHorizontalFlip(),\n",
        "        T.ToTensor(),\n",
        "        T.Normalize(mean=[0.485, 0.456, 0.406],\n",
        "                             std=[0.229, 0.224, 0.225])\n",
        "\n",
        "])\n",
        "\n",
        "lblDict={'front':0,'back':1,'right':2,'left':3}\n",
        "df_train=pd.read_csv('data/train.csv')\n",
        "ds_train_resnet=ImageDataset(workDir+'data/train/',lblDict,df_train,trainResnet)\n",
        "dl_train_resnet=DataLoader(ds_train_resnet,batch_size=64,shuffle=True,num_workers=2)\n",
        "\n",
        "df_val=pd.read_csv('data/val.csv')\n",
        "ds_val_resnet=ImageDataset(workDir+'data/val/',lblDict,df_val,trainResnet)\n",
        "dl_val_resnet=DataLoader(ds_val_resnet,batch_size=64,shuffle=False,num_workers=2)\n",
        "\n",
        "dataloaders_dict={'train':dl_train_resnet,'val':dl_val_resnet}"
      ],
      "execution_count": null,
      "outputs": []
    },
    {
      "cell_type": "code",
      "metadata": {
        "id": "aTHmJ7L0mcHQ"
      },
      "source": [
        "def train_model(model, dataloaders, criterion, optimizer, num_epochs=25):\n",
        "    since = time.time()\n",
        "    val_acc_history = []\n",
        "    best_acc=0\n",
        "    best_model_wts = copy.deepcopy(model.state_dict())\n",
        "\n",
        "    for epoch in range(num_epochs):\n",
        "        print('Epoch {}/{}'.format(epoch, num_epochs - 1))\n",
        "        print('-' * 10)\n",
        "\n",
        "        # Each epoch has a training and validation phase\n",
        "        for phase in ['train', 'val']:\n",
        "            if phase == 'train':\n",
        "                model.train()  # Set model to training mode\n",
        "            else:\n",
        "                model.eval()   # Set model to evaluate mode\n",
        "\n",
        "            running_loss = 0.0\n",
        "            running_corrects = 0\n",
        "            i=0\n",
        "            # Iterate over data.\n",
        "            for inputs, labels in dataloaders[phase]:\n",
        "                inputs = inputs.to(device)\n",
        "                labels = labels.to(device)\n",
        "                # zero the parameter gradients\n",
        "                optimizer.zero_grad()\n",
        "\n",
        "                # forward\n",
        "                # track history if only in train\n",
        "                with torch.set_grad_enabled(phase == 'train'):\n",
        "                    i+=128\n",
        "\n",
        "                    outputs = model(inputs)\n",
        "                    loss = criterion(outputs, labels)\n",
        "                    _, preds = torch.max(outputs, 1)\n",
        "                    if(i % 8192 ==0):\n",
        "                      print(loss)\n",
        "                    # backward + optimize only if in training phase\n",
        "                    if phase == 'train':\n",
        "                        loss.backward()\n",
        "                        optimizer.step()\n",
        "\n",
        "                # statistics\n",
        "                running_corrects += torch.sum(preds == labels.data)\n",
        "                running_loss += loss.detach().item()*len(labels)\n",
        "            epoch_loss = running_loss / (len(dataloaders[phase].dataset))\n",
        "            epoch_acc= running_corrects / len(dataloaders[phase].dataset)\n",
        "            if phase == 'val' and epoch_acc > best_acc:\n",
        "                best_acc = epoch_acc\n",
        "                best_model_wts = copy.deepcopy(model.state_dict())\n",
        "            if phase == 'val':\n",
        "                val_acc_history.append(epoch_acc)\n",
        "            print('{} Loss: {:.4f}, acc:  {:.4f}'.format(phase, epoch_loss, epoch_acc))\n",
        "\n",
        "        print()\n",
        "\n",
        "    time_elapsed = time.time() - since\n",
        "    print('Training complete in {:.0f}m {:.0f}s'.format(time_elapsed // 60, time_elapsed % 60))\n",
        "    # load best model weights\n",
        "    model.load_state_dict(best_model_wts)\n",
        "    return model"
      ],
      "execution_count": null,
      "outputs": []
    },
    {
      "cell_type": "code",
      "metadata": {
        "id": "zUPxIkJ-mc67"
      },
      "source": [
        "import random\n",
        "\n",
        "import torchvision.models as models\n",
        "from __future__ import print_function\n",
        "from __future__ import division\n",
        "import torch\n",
        "import torch.nn as nn\n",
        "import torch.optim as optim\n",
        "import numpy as np\n",
        "import torchvision\n",
        "from torchvision import datasets, models, transforms\n",
        "import matplotlib.pyplot as plt\n",
        "import time\n",
        "import os\n",
        "import copy"
      ],
      "execution_count": null,
      "outputs": []
    },
    {
      "cell_type": "markdown",
      "metadata": {
        "id": "-caM0Pc_w6KG"
      },
      "source": [
        "Efficient Net"
      ]
    },
    {
      "cell_type": "code",
      "metadata": {
        "colab": {
          "base_uri": "https://localhost:8080/"
        },
        "id": "YhIvHwyzxw-s",
        "outputId": "ab8205b8-aa54-4a78-8a6e-c4420638644b"
      },
      "source": [
        "import torch\n",
        "!pip install efficientnet_pytorch\n",
        "from efficientnet_pytorch import EfficientNet"
      ],
      "execution_count": null,
      "outputs": [
        {
          "output_type": "stream",
          "text": [
            "Requirement already satisfied: efficientnet_pytorch in /usr/local/lib/python3.7/dist-packages (0.7.1)\n",
            "Requirement already satisfied: torch in /usr/local/lib/python3.7/dist-packages (from efficientnet_pytorch) (1.8.1+cu101)\n",
            "Requirement already satisfied: numpy in /usr/local/lib/python3.7/dist-packages (from torch->efficientnet_pytorch) (1.19.5)\n",
            "Requirement already satisfied: typing-extensions in /usr/local/lib/python3.7/dist-packages (from torch->efficientnet_pytorch) (3.7.4.3)\n"
          ],
          "name": "stdout"
        }
      ]
    },
    {
      "cell_type": "code",
      "metadata": {
        "colab": {
          "base_uri": "https://localhost:8080/",
          "height": 1000,
          "referenced_widgets": [
            "6f3f0905545440369f7afb5ea74aaea1",
            "f99e9172b12b401584f644bd31d37dcc",
            "158464a932074feab3bbe0ebae7693d8",
            "ab5babdae31d41bfa843f726955664eb",
            "2d833fa895484d778c24a00ac3ce69b9",
            "4d1ee7856154475ab0d2710f955a69ee",
            "725493ae8d744049af34a0408d88545e",
            "6c152e83c7654e9dae2b7051da1b9fb9"
          ]
        },
        "id": "8XPWUZA8x_pU",
        "outputId": "313fac01-02b8-4ede-9f4d-ab29054d4811"
      },
      "source": [
        "model = EfficientNet.from_pretrained('efficientnet-b3',num_classes = 4)\n",
        "\n",
        "model.to(device)\n",
        "criterion=nn.CrossEntropyLoss()\n",
        "num_epochs=7\n",
        "optimizer =torch.optim.Adam(model.parameters(), lr=0.001)\n",
        "model_ft = train_model(model, dataloaders_dict, criterion, optimizer, num_epochs=num_epochs)\n",
        "torch.save(model.state_dict(), '/content/drive/MyDrive/weights_4_chel_ef_adam1_crossentropy.txt')"
      ],
      "execution_count": null,
      "outputs": [
        {
          "output_type": "stream",
          "text": [
            "Downloading: \"https://github.com/lukemelas/EfficientNet-PyTorch/releases/download/1.0/efficientnet-b3-5fb5a3c3.pth\" to /root/.cache/torch/hub/checkpoints/efficientnet-b3-5fb5a3c3.pth\n"
          ],
          "name": "stderr"
        },
        {
          "output_type": "display_data",
          "data": {
            "application/vnd.jupyter.widget-view+json": {
              "model_id": "6f3f0905545440369f7afb5ea74aaea1",
              "version_minor": 0,
              "version_major": 2
            },
            "text/plain": [
              "HBox(children=(FloatProgress(value=0.0, max=49388949.0), HTML(value='')))"
            ]
          },
          "metadata": {
            "tags": []
          }
        },
        {
          "output_type": "stream",
          "text": [
            "\n",
            "Loaded pretrained weights for efficientnet-b3\n",
            "Epoch 0/6\n",
            "----------\n",
            "tensor(0.0409, device='cuda:0', grad_fn=<NllLossBackward>)\n",
            "tensor(0.0460, device='cuda:0', grad_fn=<NllLossBackward>)\n",
            "tensor(0.0010, device='cuda:0', grad_fn=<NllLossBackward>)\n",
            "tensor(0.0103, device='cuda:0', grad_fn=<NllLossBackward>)\n",
            "tensor(0.0542, device='cuda:0', grad_fn=<NllLossBackward>)\n",
            "tensor(0.0092, device='cuda:0', grad_fn=<NllLossBackward>)\n",
            "tensor(0.0218, device='cuda:0', grad_fn=<NllLossBackward>)\n",
            "tensor(0.0013, device='cuda:0', grad_fn=<NllLossBackward>)\n",
            "tensor(0.0871, device='cuda:0', grad_fn=<NllLossBackward>)\n",
            "train Loss: 0.0549, acc:  0.9815\n",
            "val Loss: 0.1860, acc:  0.9635\n",
            "\n",
            "Epoch 1/6\n",
            "----------\n",
            "tensor(0.0022, device='cuda:0', grad_fn=<NllLossBackward>)\n",
            "tensor(0.0267, device='cuda:0', grad_fn=<NllLossBackward>)\n",
            "tensor(0.0635, device='cuda:0', grad_fn=<NllLossBackward>)\n",
            "tensor(0.0018, device='cuda:0', grad_fn=<NllLossBackward>)\n",
            "tensor(0.0005, device='cuda:0', grad_fn=<NllLossBackward>)\n",
            "tensor(0.0229, device='cuda:0', grad_fn=<NllLossBackward>)\n",
            "tensor(0.0003, device='cuda:0', grad_fn=<NllLossBackward>)\n",
            "tensor(0.0132, device='cuda:0', grad_fn=<NllLossBackward>)\n",
            "tensor(0.0003, device='cuda:0', grad_fn=<NllLossBackward>)\n",
            "train Loss: 0.0199, acc:  0.9927\n",
            "val Loss: 0.0191, acc:  0.9925\n",
            "\n",
            "Epoch 2/6\n",
            "----------\n",
            "tensor(0.1361, device='cuda:0', grad_fn=<NllLossBackward>)\n",
            "tensor(0.0004, device='cuda:0', grad_fn=<NllLossBackward>)\n",
            "tensor(0.0006, device='cuda:0', grad_fn=<NllLossBackward>)\n",
            "tensor(0.0140, device='cuda:0', grad_fn=<NllLossBackward>)\n",
            "tensor(0.0015, device='cuda:0', grad_fn=<NllLossBackward>)\n",
            "tensor(0.0084, device='cuda:0', grad_fn=<NllLossBackward>)\n",
            "tensor(0.0028, device='cuda:0', grad_fn=<NllLossBackward>)\n",
            "tensor(0.0031, device='cuda:0', grad_fn=<NllLossBackward>)\n",
            "tensor(0.0081, device='cuda:0', grad_fn=<NllLossBackward>)\n",
            "train Loss: 0.0149, acc:  0.9949\n",
            "val Loss: 0.0403, acc:  0.9905\n",
            "\n",
            "Epoch 3/6\n",
            "----------\n",
            "tensor(0.0011, device='cuda:0', grad_fn=<NllLossBackward>)\n",
            "tensor(7.8772e-05, device='cuda:0', grad_fn=<NllLossBackward>)\n",
            "tensor(0.0351, device='cuda:0', grad_fn=<NllLossBackward>)\n",
            "tensor(0.0028, device='cuda:0', grad_fn=<NllLossBackward>)\n",
            "tensor(0.0131, device='cuda:0', grad_fn=<NllLossBackward>)\n",
            "tensor(0.0055, device='cuda:0', grad_fn=<NllLossBackward>)\n",
            "tensor(0.0255, device='cuda:0', grad_fn=<NllLossBackward>)\n",
            "tensor(0.0641, device='cuda:0', grad_fn=<NllLossBackward>)\n",
            "tensor(0.0003, device='cuda:0', grad_fn=<NllLossBackward>)\n",
            "train Loss: 0.0111, acc:  0.9963\n",
            "val Loss: 0.0167, acc:  0.9925\n",
            "\n",
            "Epoch 4/6\n",
            "----------\n",
            "tensor(0.0125, device='cuda:0', grad_fn=<NllLossBackward>)\n",
            "tensor(2.3813e-05, device='cuda:0', grad_fn=<NllLossBackward>)\n",
            "tensor(0.0442, device='cuda:0', grad_fn=<NllLossBackward>)\n",
            "tensor(0.0013, device='cuda:0', grad_fn=<NllLossBackward>)\n",
            "tensor(0.0034, device='cuda:0', grad_fn=<NllLossBackward>)\n",
            "tensor(0.0898, device='cuda:0', grad_fn=<NllLossBackward>)\n",
            "tensor(0.0042, device='cuda:0', grad_fn=<NllLossBackward>)\n",
            "tensor(0.0114, device='cuda:0', grad_fn=<NllLossBackward>)\n",
            "tensor(0.0124, device='cuda:0', grad_fn=<NllLossBackward>)\n",
            "train Loss: 0.0103, acc:  0.9965\n",
            "val Loss: 0.0147, acc:  0.9955\n",
            "\n",
            "Epoch 5/6\n",
            "----------\n",
            "tensor(0.0058, device='cuda:0', grad_fn=<NllLossBackward>)\n",
            "tensor(0.0333, device='cuda:0', grad_fn=<NllLossBackward>)\n",
            "tensor(0.0010, device='cuda:0', grad_fn=<NllLossBackward>)\n",
            "tensor(0.0011, device='cuda:0', grad_fn=<NllLossBackward>)\n",
            "tensor(0.0025, device='cuda:0', grad_fn=<NllLossBackward>)\n",
            "tensor(0.0011, device='cuda:0', grad_fn=<NllLossBackward>)\n",
            "tensor(0.0445, device='cuda:0', grad_fn=<NllLossBackward>)\n",
            "tensor(0.0030, device='cuda:0', grad_fn=<NllLossBackward>)\n",
            "tensor(0.0006, device='cuda:0', grad_fn=<NllLossBackward>)\n",
            "train Loss: 0.0152, acc:  0.9954\n",
            "val Loss: 0.0203, acc:  0.9938\n",
            "\n",
            "Epoch 6/6\n",
            "----------\n",
            "tensor(0.0027, device='cuda:0', grad_fn=<NllLossBackward>)\n",
            "tensor(0.0002, device='cuda:0', grad_fn=<NllLossBackward>)\n",
            "tensor(0.0358, device='cuda:0', grad_fn=<NllLossBackward>)\n",
            "tensor(0.0004, device='cuda:0', grad_fn=<NllLossBackward>)\n",
            "tensor(0.0201, device='cuda:0', grad_fn=<NllLossBackward>)\n",
            "tensor(0.0493, device='cuda:0', grad_fn=<NllLossBackward>)\n",
            "tensor(0.0008, device='cuda:0', grad_fn=<NllLossBackward>)\n",
            "tensor(0.0187, device='cuda:0', grad_fn=<NllLossBackward>)\n",
            "tensor(0.0345, device='cuda:0', grad_fn=<NllLossBackward>)\n",
            "train Loss: 0.0065, acc:  0.9977\n",
            "val Loss: 0.0130, acc:  0.9953\n",
            "\n",
            "Training complete in 28m 57s\n"
          ],
          "name": "stdout"
        }
      ]
    },
    {
      "cell_type": "code",
      "metadata": {
        "colab": {
          "base_uri": "https://localhost:8080/"
        },
        "id": "fwv9zNgbn7_c",
        "outputId": "42109d33-36d2-4391-9d43-67a579f64425"
      },
      "source": [
        "optimizer =torch.optim.Adam(model.parameters(), lr=0.0003)\n",
        "model_ft = train_model(model, dataloaders_dict, criterion, optimizer, num_epochs=5)\n",
        "torch.save(model.state_dict(), '/content/drive/MyDrive/weights_4_chel_ef_adam2_entropy.txt')"
      ],
      "execution_count": null,
      "outputs": [
        {
          "output_type": "stream",
          "text": [
            "Epoch 0/4\n",
            "----------\n",
            "tensor(9.8228e-05, device='cuda:0', grad_fn=<NllLossBackward>)\n",
            "tensor(1.1138e-05, device='cuda:0', grad_fn=<NllLossBackward>)\n",
            "tensor(0.0001, device='cuda:0', grad_fn=<NllLossBackward>)\n",
            "tensor(3.2901e-05, device='cuda:0', grad_fn=<NllLossBackward>)\n",
            "tensor(0.0003, device='cuda:0', grad_fn=<NllLossBackward>)\n",
            "tensor(0.0002, device='cuda:0', grad_fn=<NllLossBackward>)\n",
            "tensor(1.0628e-05, device='cuda:0', grad_fn=<NllLossBackward>)\n",
            "tensor(0.0039, device='cuda:0', grad_fn=<NllLossBackward>)\n",
            "tensor(1.9372e-05, device='cuda:0', grad_fn=<NllLossBackward>)\n",
            "train Loss: 0.0041, acc:  0.9985\n",
            "val Loss: 0.0201, acc:  0.9948\n",
            "\n",
            "Epoch 1/4\n",
            "----------\n",
            "tensor(4.8660e-05, device='cuda:0', grad_fn=<NllLossBackward>)\n",
            "tensor(1.6810e-05, device='cuda:0', grad_fn=<NllLossBackward>)\n",
            "tensor(0.0193, device='cuda:0', grad_fn=<NllLossBackward>)\n",
            "tensor(1.8564e-05, device='cuda:0', grad_fn=<NllLossBackward>)\n",
            "tensor(0.0002, device='cuda:0', grad_fn=<NllLossBackward>)\n",
            "tensor(0.0007, device='cuda:0', grad_fn=<NllLossBackward>)\n",
            "tensor(5.5613e-05, device='cuda:0', grad_fn=<NllLossBackward>)\n",
            "tensor(0.0006, device='cuda:0', grad_fn=<NllLossBackward>)\n",
            "tensor(5.3508e-05, device='cuda:0', grad_fn=<NllLossBackward>)\n",
            "train Loss: 0.0031, acc:  0.9989\n",
            "val Loss: 0.0196, acc:  0.9950\n",
            "\n",
            "Epoch 2/4\n",
            "----------\n",
            "tensor(0.0001, device='cuda:0', grad_fn=<NllLossBackward>)\n",
            "tensor(0.0098, device='cuda:0', grad_fn=<NllLossBackward>)\n",
            "tensor(1.3334e-05, device='cuda:0', grad_fn=<NllLossBackward>)\n",
            "tensor(2.4100e-05, device='cuda:0', grad_fn=<NllLossBackward>)\n",
            "tensor(9.3794e-05, device='cuda:0', grad_fn=<NllLossBackward>)\n",
            "tensor(2.3768e-05, device='cuda:0', grad_fn=<NllLossBackward>)\n",
            "tensor(0.0004, device='cuda:0', grad_fn=<NllLossBackward>)\n",
            "tensor(0.0004, device='cuda:0', grad_fn=<NllLossBackward>)\n",
            "tensor(7.1337e-05, device='cuda:0', grad_fn=<NllLossBackward>)\n",
            "train Loss: 0.0018, acc:  0.9995\n",
            "val Loss: 0.0218, acc:  0.9955\n",
            "\n",
            "Epoch 3/4\n",
            "----------\n",
            "tensor(0.0240, device='cuda:0', grad_fn=<NllLossBackward>)\n",
            "tensor(7.7461e-06, device='cuda:0', grad_fn=<NllLossBackward>)\n",
            "tensor(2.3492e-05, device='cuda:0', grad_fn=<NllLossBackward>)\n",
            "tensor(3.5408e-06, device='cuda:0', grad_fn=<NllLossBackward>)\n",
            "tensor(1.0037e-05, device='cuda:0', grad_fn=<NllLossBackward>)\n",
            "tensor(0.0002, device='cuda:0', grad_fn=<NllLossBackward>)\n",
            "tensor(7.1075e-06, device='cuda:0', grad_fn=<NllLossBackward>)\n",
            "tensor(0.0013, device='cuda:0', grad_fn=<NllLossBackward>)\n",
            "tensor(8.1546e-05, device='cuda:0', grad_fn=<NllLossBackward>)\n",
            "train Loss: 0.0028, acc:  0.9991\n",
            "val Loss: 0.0258, acc:  0.9945\n",
            "\n",
            "Epoch 4/4\n",
            "----------\n",
            "tensor(2.2910e-06, device='cuda:0', grad_fn=<NllLossBackward>)\n",
            "tensor(0.0007, device='cuda:0', grad_fn=<NllLossBackward>)\n",
            "tensor(0.0001, device='cuda:0', grad_fn=<NllLossBackward>)\n",
            "tensor(0.0001, device='cuda:0', grad_fn=<NllLossBackward>)\n",
            "tensor(1.4044e-06, device='cuda:0', grad_fn=<NllLossBackward>)\n",
            "tensor(1.0400e-05, device='cuda:0', grad_fn=<NllLossBackward>)\n",
            "tensor(1.1405e-05, device='cuda:0', grad_fn=<NllLossBackward>)\n",
            "tensor(1.1733e-05, device='cuda:0', grad_fn=<NllLossBackward>)\n",
            "tensor(7.2879e-06, device='cuda:0', grad_fn=<NllLossBackward>)\n",
            "train Loss: 0.0010, acc:  0.9997\n",
            "val Loss: 0.0207, acc:  0.9950\n",
            "\n",
            "Training complete in 20m 40s\n"
          ],
          "name": "stdout"
        }
      ]
    },
    {
      "cell_type": "code",
      "metadata": {
        "colab": {
          "base_uri": "https://localhost:8080/"
        },
        "id": "bQld8yASz7Nl",
        "outputId": "1fa2eba2-6f43-4745-af3c-96ffed8f6706"
      },
      "source": [
        "optimizer =torch.optim.Adam(model.parameters(), lr=0.00004)\n",
        "model_ft = train_model(model, dataloaders_dict, criterion, optimizer, num_epochs=4)\n",
        "torch.save(model.state_dict(), '/content/drive/MyDrive/weights_4_chel_ef_adam3_entropy.txt')"
      ],
      "execution_count": null,
      "outputs": [
        {
          "output_type": "stream",
          "text": [
            "Epoch 0/3\n",
            "----------\n",
            "tensor(8.3481e-06, device='cuda:0', grad_fn=<NllLossBackward>)\n",
            "tensor(2.3540e-05, device='cuda:0', grad_fn=<NllLossBackward>)\n",
            "tensor(2.5127e-06, device='cuda:0', grad_fn=<NllLossBackward>)\n",
            "tensor(1.3579e-06, device='cuda:0', grad_fn=<NllLossBackward>)\n",
            "tensor(1.0290e-05, device='cuda:0', grad_fn=<NllLossBackward>)\n",
            "tensor(2.2432e-05, device='cuda:0', grad_fn=<NllLossBackward>)\n",
            "tensor(6.6159e-06, device='cuda:0', grad_fn=<NllLossBackward>)\n",
            "tensor(9.1828e-07, device='cuda:0', grad_fn=<NllLossBackward>)\n",
            "tensor(6.7259e-06, device='cuda:0', grad_fn=<NllLossBackward>)\n",
            "train Loss: 0.0004, acc:  0.9998\n",
            "val Loss: 0.0205, acc:  0.9948\n",
            "\n",
            "Epoch 1/3\n",
            "----------\n",
            "tensor(8.8103e-07, device='cuda:0', grad_fn=<NllLossBackward>)\n",
            "tensor(2.4997e-06, device='cuda:0', grad_fn=<NllLossBackward>)\n",
            "tensor(1.2089e-06, device='cuda:0', grad_fn=<NllLossBackward>)\n",
            "tensor(6.8479e-05, device='cuda:0', grad_fn=<NllLossBackward>)\n",
            "tensor(5.0362e-05, device='cuda:0', grad_fn=<NllLossBackward>)\n",
            "tensor(9.7801e-06, device='cuda:0', grad_fn=<NllLossBackward>)\n",
            "tensor(8.2699e-05, device='cuda:0', grad_fn=<NllLossBackward>)\n",
            "tensor(2.0694e-06, device='cuda:0', grad_fn=<NllLossBackward>)\n",
            "tensor(1.1559e-05, device='cuda:0', grad_fn=<NllLossBackward>)\n",
            "train Loss: 0.0001, acc:  1.0000\n",
            "val Loss: 0.0240, acc:  0.9948\n",
            "\n",
            "Epoch 2/3\n",
            "----------\n",
            "tensor(5.0566e-05, device='cuda:0', grad_fn=<NllLossBackward>)\n",
            "tensor(5.2749e-06, device='cuda:0', grad_fn=<NllLossBackward>)\n",
            "tensor(3.6022e-06, device='cuda:0', grad_fn=<NllLossBackward>)\n",
            "tensor(2.3637e-06, device='cuda:0', grad_fn=<NllLossBackward>)\n",
            "tensor(4.9919e-07, device='cuda:0', grad_fn=<NllLossBackward>)\n",
            "tensor(6.2055e-06, device='cuda:0', grad_fn=<NllLossBackward>)\n",
            "tensor(5.9006e-06, device='cuda:0', grad_fn=<NllLossBackward>)\n",
            "tensor(4.6566e-07, device='cuda:0', grad_fn=<NllLossBackward>)\n",
            "tensor(7.7672e-07, device='cuda:0', grad_fn=<NllLossBackward>)\n",
            "train Loss: 0.0000, acc:  1.0000\n",
            "val Loss: 0.0240, acc:  0.9955\n",
            "\n",
            "Epoch 3/3\n",
            "----------\n",
            "tensor(6.5379e-07, device='cuda:0', grad_fn=<NllLossBackward>)\n",
            "tensor(1.2312e-06, device='cuda:0', grad_fn=<NllLossBackward>)\n",
            "tensor(1.0013e-05, device='cuda:0', grad_fn=<NllLossBackward>)\n",
            "tensor(1.9762e-06, device='cuda:0', grad_fn=<NllLossBackward>)\n",
            "tensor(9.8161e-07, device='cuda:0', grad_fn=<NllLossBackward>)\n",
            "tensor(1.0468e-06, device='cuda:0', grad_fn=<NllLossBackward>)\n",
            "tensor(1.5404e-06, device='cuda:0', grad_fn=<NllLossBackward>)\n",
            "tensor(3.7812e-07, device='cuda:0', grad_fn=<NllLossBackward>)\n",
            "tensor(1.2440e-05, device='cuda:0', grad_fn=<NllLossBackward>)\n",
            "train Loss: 0.0001, acc:  0.9999\n",
            "val Loss: 0.0300, acc:  0.9945\n",
            "\n",
            "Training complete in 16m 31s\n"
          ],
          "name": "stdout"
        }
      ]
    },
    {
      "cell_type": "code",
      "metadata": {
        "id": "4I88nBnq1bt1"
      },
      "source": [
        "model.eval()\n",
        "clsDict={0:'front',1:'back',2:'right',3:'left'}\n",
        "\n",
        "A=[[i for i in range(10000)],['']*10000]\n",
        "df=pd.DataFrame(A).transpose()\n",
        "df.columns=['ImageID','label']\n",
        "i=0\n",
        "for f in os.listdir('data/test/'):\n",
        "  im=Image.open('data/test/'+f)\n",
        "  tens=torch.reshape(trainResnet(im),(1,3,256,256))\n",
        "  inputs = tens.to(device)\n",
        "  outputs = np.argmax(model(inputs).detach().cpu().numpy())\n",
        "  df.iloc[int(f.split('.')[0]),1]=clsDict[outputs]\n",
        "\n",
        "df.to_csv('/content/drive/MyDrive/submission.csv',index=False)"
      ],
      "execution_count": null,
      "outputs": []
    },
    {
      "cell_type": "code",
      "metadata": {
        "id": "Y8BF5xMiMEDL",
        "colab": {
          "base_uri": "https://localhost:8080/"
        },
        "outputId": "5d178bae-0420-47ca-fcc1-4d9ebc5b2e7d"
      },
      "source": [
        "!aicrowd submission create -c f1-car-rotation -f '/content/drive/MyDrive/submission.csv'"
      ],
      "execution_count": null,
      "outputs": [
        {
          "output_type": "stream",
          "text": [
            "\u001b[2K\u001b[1;34msubmission.csv\u001b[0m \u001b[90m━━━━━━━━━━━━━━━━━━━━\u001b[0m \u001b[35m100.0%\u001b[0m • \u001b[32m105.6/103.9 KB\u001b[0m • \u001b[31m3.3 MB/s\u001b[0m • \u001b[36m0:00:00\u001b[0m\n",
            "\u001b[?25h                                                 ╭─────────────────────────╮                                                 \n",
            "                                                 │ \u001b[1mSuccessfully submitted!\u001b[0m │                                                 \n",
            "                                                 ╰─────────────────────────╯                                                 \n",
            "\u001b[3m                                                       Important links                                                       \u001b[0m\n",
            "┌──────────────────┬────────────────────────────────────────────────────────────────────────────────────────────────────────┐\n",
            "│  This submission │ https://www.aicrowd.com/challenges/ai-blitz-8/problems/f1-car-rotation/submissions/140275              │\n",
            "│                  │                                                                                                        │\n",
            "│  All submissions │ https://www.aicrowd.com/challenges/ai-blitz-8/problems/f1-car-rotation/submissions?my_submissions=true │\n",
            "│                  │                                                                                                        │\n",
            "│      Leaderboard │ https://www.aicrowd.com/challenges/ai-blitz-8/problems/f1-car-rotation/leaderboards                    │\n",
            "│                  │                                                                                                        │\n",
            "│ Discussion forum │ https://discourse.aicrowd.com/c/ai-blitz-8                                                             │\n",
            "│                  │                                                                                                        │\n",
            "│   Challenge page │ https://www.aicrowd.com/challenges/ai-blitz-8/problems/f1-car-rotation                                 │\n",
            "└──────────────────┴────────────────────────────────────────────────────────────────────────────────────────────────────────┘\n",
            "{'submission_id': 140275, 'created_at': '2021-05-23T10:57:57.523Z'}\n"
          ],
          "name": "stdout"
        }
      ]
    }
  ]
}